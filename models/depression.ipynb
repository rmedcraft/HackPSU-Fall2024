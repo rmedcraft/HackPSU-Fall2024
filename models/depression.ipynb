{
 "cells": [
  {
   "cell_type": "code",
   "execution_count": null,
   "metadata": {},
   "outputs": [],
   "source": [
    "import pandas as pd\n",
    "\n",
    "splits = {'train': 'data/train-00000-of-00001.parquet', 'test': 'data/test-00000-of-00001.parquet', 'val': 'data/val-00000-of-00001.parquet'}\n",
    "df = pd.read_parquet(\"hf://datasets/Kanakmi/mental-disorders/\" + splits[\"train\"])\n",
    "df = df."
   ]
  },
  {
   "cell_type": "code",
   "execution_count": null,
   "metadata": {},
   "outputs": [],
   "source": [
    "#clean the data for an LLM\n",
    "import re\n",
    "\n",
    "class TextCleaner():\n",
    "    def __init__(self):\n",
    "        pass\n",
    "    \n",
    "    def clean_text(self, text):\n",
    "        #change the text to lower case\n",
    "        text = text.lower()\n",
    "\n",
    "        #delete special characters\n",
    "        text = re.sub(r'<.*?>', '', text)\n",
    "\n",
    "        text = re.sub(r\"[^a-zA-Z0-9\\s]\", \"\", text)\n",
    "\n",
    "        #split the text by spaces\n",
    "        text = re.sub(r\"\\s+\", \" \", text).strip()\n",
    "        return text\n",
    "\n",
    "cleaner = TextCleaner()\n",
    "df['cleaned_text'] = df['text'].apply(cleaner.clean_text)"
   ]
  }
 ],
 "metadata": {
  "language_info": {
   "name": "python"
  }
 },
 "nbformat": 4,
 "nbformat_minor": 2
}
